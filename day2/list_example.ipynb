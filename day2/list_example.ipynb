{
 "cells": [
  {
   "cell_type": "code",
   "execution_count": 6,
   "metadata": {},
   "outputs": [
    {
     "name": "stdout",
     "output_type": "stream",
     "text": [
      "[1, 2, 3, 4]\n",
      "4\n"
     ]
    }
   ],
   "source": [
    "numbers=[1,2,3,4]\n",
    "print(numbers)\n",
    "print(len(numbers))"
   ]
  },
  {
   "cell_type": "code",
   "execution_count": 3,
   "metadata": {},
   "outputs": [
    {
     "name": "stdout",
     "output_type": "stream",
     "text": [
      "['ATAGATAGAT', 'ATAGTAGATAGA', 'ATAGATA']\n"
     ]
    }
   ],
   "source": [
    "sequences=[\"ATAGATAGAT\",\"ATAGTAGATAGA\",\"ATAGATA\"]\n",
    "print(sequences)"
   ]
  },
  {
   "cell_type": "code",
   "execution_count": 4,
   "metadata": {},
   "outputs": [
    {
     "name": "stdout",
     "output_type": "stream",
     "text": [
      "[65.67, 89.6, 78, 12]\n"
     ]
    }
   ],
   "source": [
    "gc_percentages=[65.67,89.6,78,12]\n",
    "print(gc_percentages)"
   ]
  },
  {
   "cell_type": "code",
   "execution_count": 5,
   "metadata": {},
   "outputs": [
    {
     "name": "stdout",
     "output_type": "stream",
     "text": [
      "4\n"
     ]
    }
   ],
   "source": [
    "#length\n",
    "#len(name_list)\n",
    "print(len(gc_percentages))"
   ]
  },
  {
   "cell_type": "code",
   "execution_count": 8,
   "metadata": {},
   "outputs": [
    {
     "name": "stdout",
     "output_type": "stream",
     "text": [
      "[1, 2, 3, 6, 7]\n"
     ]
    }
   ],
   "source": [
    "#append=> it adds the new data at the end of the list\n",
    "numbers=[1,2,3]\n",
    "numbers.append(6) #[1,2,3,6]\n",
    "numbers.append(7) #[1,2,3,6,7]\n",
    "print(numbers)"
   ]
  },
  {
   "cell_type": "markdown",
   "metadata": {},
   "source": [
    "# clear()   Removes all the elements from the list\n",
    "# copy()    Returns a copy of the list\n",
    "# count()   Returns the number of elements with the specified value\n",
    "# reverse() Reverses the order of the list\n",
    "# sort()    Sorts the list\n"
   ]
  },
  {
   "cell_type": "code",
   "execution_count": 9,
   "metadata": {},
   "outputs": [
    {
     "name": "stdout",
     "output_type": "stream",
     "text": [
      "[]\n"
     ]
    }
   ],
   "source": [
    "# clear()   Removes all the elements from the list\n",
    "numbers=[1,2,3]\n",
    "numbers.clear()\n",
    "print(numbers)"
   ]
  },
  {
   "cell_type": "code",
   "execution_count": 10,
   "metadata": {},
   "outputs": [
    {
     "name": "stdout",
     "output_type": "stream",
     "text": [
      "[1, 2, 3]\n"
     ]
    }
   ],
   "source": [
    "# copy()    Returns a copy of the list\n",
    "numbers=[1,2,3]\n",
    "numbers_copy=numbers.copy()\n",
    "print(numbers_copy)"
   ]
  },
  {
   "cell_type": "code",
   "execution_count": 2,
   "metadata": {},
   "outputs": [
    {
     "data": {
      "text/plain": [
       "2"
      ]
     },
     "execution_count": 2,
     "metadata": {},
     "output_type": "execute_result"
    }
   ],
   "source": [
    "# count()   Returns the number of elements with the specified value\n",
    "list_data=[1,2,3,4,1]\n",
    "list_data.count(1)\n"
   ]
  },
  {
   "cell_type": "code",
   "execution_count": 3,
   "metadata": {},
   "outputs": [
    {
     "name": "stdout",
     "output_type": "stream",
     "text": [
      "[1, 4, 3, 2, 1]\n"
     ]
    }
   ],
   "source": [
    "list_data=[1,2,3,4,1]\n",
    "list_data.reverse()\n",
    "print(list_data)"
   ]
  },
  {
   "cell_type": "code",
   "execution_count": 7,
   "metadata": {},
   "outputs": [
    {
     "name": "stdout",
     "output_type": "stream",
     "text": [
      "[1, 1, 2, 3, 4]\n"
     ]
    }
   ],
   "source": [
    "list_data.sort()\n",
    "print(list_data)"
   ]
  },
  {
   "cell_type": "code",
   "execution_count": 8,
   "metadata": {},
   "outputs": [
    {
     "name": "stdout",
     "output_type": "stream",
     "text": [
      "[4, 3, 2, 1, 1]\n"
     ]
    }
   ],
   "source": [
    "list_data.sort()\n",
    "list_data.reverse()\n",
    "print(list_data)"
   ]
  }
 ],
 "metadata": {
  "interpreter": {
   "hash": "2e142ed8c16b11eb9a32b3ac677a629ffa2603cf9c5cd15b5b82eee7b403d10d"
  },
  "kernelspec": {
   "display_name": "Python 3.9.6 64-bit",
   "language": "python",
   "name": "python3"
  },
  "language_info": {
   "codemirror_mode": {
    "name": "ipython",
    "version": 3
   },
   "file_extension": ".py",
   "mimetype": "text/x-python",
   "name": "python",
   "nbconvert_exporter": "python",
   "pygments_lexer": "ipython3",
   "version": "3.9.6"
  },
  "orig_nbformat": 4
 },
 "nbformat": 4,
 "nbformat_minor": 2
}
