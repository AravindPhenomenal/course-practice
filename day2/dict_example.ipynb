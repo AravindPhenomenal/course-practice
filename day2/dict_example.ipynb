{
 "cells": [
  {
   "cell_type": "code",
   "execution_count": null,
   "metadata": {},
   "outputs": [],
   "source": [
    "dict_example={\n",
    "    \"key\":\"values\"\n",
    "}\n"
   ]
  },
  {
   "cell_type": "code",
   "execution_count": 1,
   "metadata": {},
   "outputs": [
    {
     "name": "stdout",
     "output_type": "stream",
     "text": [
      "{'name': 'Anand', 'email': 'anand@gmail.com', 'phone_no': '1234567890', 'address': 'Noida'}\n"
     ]
    }
   ],
   "source": [
    "anand={\n",
    "    \"name\":\"Anand\",\n",
    "    \"email\":\"anand@gmail.com\",\n",
    "    \"phone_no\":\"1234567890\",\n",
    "    \"address\":\"Noida\"\n",
    "}\n",
    "print(anand)"
   ]
  },
  {
   "cell_type": "code",
   "execution_count": null,
   "metadata": {},
   "outputs": [],
   "source": []
  },
  {
   "cell_type": "code",
   "execution_count": 2,
   "metadata": {},
   "outputs": [
    {
     "data": {
      "text/plain": [
       "'anand@gmail.com'"
      ]
     },
     "execution_count": 2,
     "metadata": {},
     "output_type": "execute_result"
    }
   ],
   "source": [
    "#getting a key value\n",
    "anand[\"email\"]"
   ]
  },
  {
   "cell_type": "code",
   "execution_count": 3,
   "metadata": {},
   "outputs": [
    {
     "data": {
      "text/plain": [
       "'1234567890'"
      ]
     },
     "execution_count": 3,
     "metadata": {},
     "output_type": "execute_result"
    }
   ],
   "source": [
    "anand[\"phone_no\"]"
   ]
  },
  {
   "cell_type": "code",
   "execution_count": 4,
   "metadata": {},
   "outputs": [
    {
     "data": {
      "text/plain": [
       "{'name': 'Anand K',\n",
       " 'email': 'anand@gmail.com',\n",
       " 'phone_no': '1234567890',\n",
       " 'address': 'Noida'}"
      ]
     },
     "execution_count": 4,
     "metadata": {},
     "output_type": "execute_result"
    }
   ],
   "source": [
    "#modification\n",
    "anand[\"name\"]=\"Anand K\"\n",
    "anand"
   ]
  },
  {
   "cell_type": "code",
   "execution_count": 5,
   "metadata": {},
   "outputs": [
    {
     "name": "stdout",
     "output_type": "stream",
     "text": [
      "{'name': 'Anand K', 'email': 'anand@gmail.com', 'phone_no': '1234567890', 'address': 'Noida', 'country': 'India'}\n"
     ]
    }
   ],
   "source": [
    "#add new data\n",
    "anand[\"country\"]=\"India\"\n",
    "print(anand)"
   ]
  },
  {
   "cell_type": "markdown",
   "metadata": {},
   "source": [
    "clear() :Removes all the elements from the dictionary\n",
    "copy(): Returns a copy of the dictionary\n",
    "get(): Returns the value of the specified key\n",
    "items(): Returns a list containing a tuple for each key value pair\n",
    "keys(): Returns a list containing the dictionary's keys\n",
    "pop(): Removes the element with the specified key\n",
    "values(): Returns  a list of all the values in the dictionary\n",
    "\n",
    "\n"
   ]
  },
  {
   "cell_type": "code",
   "execution_count": 11,
   "metadata": {},
   "outputs": [
    {
     "data": {
      "text/plain": [
       "'not found'"
      ]
     },
     "execution_count": 11,
     "metadata": {},
     "output_type": "execute_result"
    }
   ],
   "source": [
    "#get(): Returns the value of the specified key\n",
    "anand.get(\"first_name\",\"not found\")\n"
   ]
  },
  {
   "cell_type": "code",
   "execution_count": 10,
   "metadata": {},
   "outputs": [
    {
     "data": {
      "text/plain": [
       "'Anand K'"
      ]
     },
     "execution_count": 10,
     "metadata": {},
     "output_type": "execute_result"
    }
   ],
   "source": [
    "anand.get(\"name\",\"not found\")"
   ]
  },
  {
   "cell_type": "code",
   "execution_count": 12,
   "metadata": {},
   "outputs": [
    {
     "data": {
      "text/plain": [
       "dict_keys(['name', 'email', 'phone_no', 'address', 'country'])"
      ]
     },
     "execution_count": 12,
     "metadata": {},
     "output_type": "execute_result"
    }
   ],
   "source": [
    "#keys(): Returns a list containing the dictionary's keys\n",
    "anand.keys()"
   ]
  },
  {
   "cell_type": "code",
   "execution_count": 13,
   "metadata": {},
   "outputs": [
    {
     "data": {
      "text/plain": [
       "dict_values(['Anand K', 'anand@gmail.com', '1234567890', 'Noida', 'India'])"
      ]
     },
     "execution_count": 13,
     "metadata": {},
     "output_type": "execute_result"
    }
   ],
   "source": [
    "#values(): Returns a list containing the dictionary's keys\n",
    "anand.values()"
   ]
  }
 ],
 "metadata": {
  "interpreter": {
   "hash": "2e142ed8c16b11eb9a32b3ac677a629ffa2603cf9c5cd15b5b82eee7b403d10d"
  },
  "kernelspec": {
   "display_name": "Python 3.9.6 64-bit",
   "language": "python",
   "name": "python3"
  },
  "language_info": {
   "codemirror_mode": {
    "name": "ipython",
    "version": 3
   },
   "file_extension": ".py",
   "mimetype": "text/x-python",
   "name": "python",
   "nbconvert_exporter": "python",
   "pygments_lexer": "ipython3",
   "version": "3.9.6"
  },
  "orig_nbformat": 4
 },
 "nbformat": 4,
 "nbformat_minor": 2
}
