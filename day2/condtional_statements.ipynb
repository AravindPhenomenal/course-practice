{
 "cells": [
  {
   "cell_type": "code",
   "execution_count": 5,
   "metadata": {},
   "outputs": [
    {
     "name": "stdout",
     "output_type": "stream",
     "text": [
      "This sequences does not conatins the AATAGATA motifs \n"
     ]
    }
   ],
   "source": [
    "seq=\"AATGATAGATAGATAGAATAGT\"\n",
    "seq.count(\"AA\")\n",
    "if seq.count(\"AATAGATA\")>0:\n",
    "    print(\"This sequences conatins the AATAGATA motifs \")\n",
    "else:\n",
    "    print(\"This sequences does not conatins the AATAGATA motifs \")"
   ]
  },
  {
   "cell_type": "markdown",
   "metadata": {},
   "source": [
    " operator\n",
    "name\n",
    "example\n",
    "<\n",
    "Less than\n",
    "2<4 ⇒ True\n",
    ">\n",
    "Greater than\n",
    "2>4 ⇒ False\n",
    "<=\n",
    "Less than or equal to\n",
    "2<=2 ⇒ True\n",
    ">=\n",
    "Greater than or equals to\n",
    "4>=2 ⇒ True\n",
    "==\n",
    "Is equal to\n",
    "2==2 ⇒ True,4==3 ==>False\n",
    "!=\n",
    "Not equal to\n",
    "2!=2 ⇒ False, 4!=3 ==>True\n"
   ]
  },
  {
   "cell_type": "code",
   "execution_count": 6,
   "metadata": {},
   "outputs": [
    {
     "name": "stdout",
     "output_type": "stream",
     "text": [
      "Message 1\n"
     ]
    }
   ],
   "source": [
    "if 2<4:\n",
    "    print(\"Message 1\")\n",
    "else:\n",
    "    print(\"Message 2\")"
   ]
  },
  {
   "cell_type": "code",
   "execution_count": null,
   "metadata": {},
   "outputs": [],
   "source": []
  }
 ],
 "metadata": {
  "interpreter": {
   "hash": "2e142ed8c16b11eb9a32b3ac677a629ffa2603cf9c5cd15b5b82eee7b403d10d"
  },
  "kernelspec": {
   "display_name": "Python 3.9.6 64-bit",
   "language": "python",
   "name": "python3"
  },
  "language_info": {
   "codemirror_mode": {
    "name": "ipython",
    "version": 3
   },
   "file_extension": ".py",
   "mimetype": "text/x-python",
   "name": "python",
   "nbconvert_exporter": "python",
   "pygments_lexer": "ipython3",
   "version": "3.9.6"
  },
  "orig_nbformat": 4
 },
 "nbformat": 4,
 "nbformat_minor": 2
}
