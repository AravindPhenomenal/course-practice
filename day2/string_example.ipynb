{
 "cells": [
  {
   "cell_type": "code",
   "execution_count": 1,
   "metadata": {},
   "outputs": [
    {
     "name": "stdout",
     "output_type": "stream",
     "text": [
      "Welcome\n"
     ]
    }
   ],
   "source": [
    "print(\"Welcome\")"
   ]
  },
  {
   "cell_type": "markdown",
   "metadata": {},
   "source": [
    "#  0    1    2    3    4    5    6    7    8      left-right \n",
    "#  ↓    ↓    ↓    ↓    ↓    ↓    ↓    ↓    ↓\n",
    "# ['A', 'T', 'G', 'C', 'A', 'T', 'G', 'C', 'A']\n",
    "#  ↑    ↑    ↑    ↑    ↑    ↑    ↑    ↑    ↑\n",
    "# -9   -8   -7   -6   -5   -4   -3   -2   -1      right-left\n"
   ]
  },
  {
   "cell_type": "code",
   "execution_count": 4,
   "metadata": {},
   "outputs": [
    {
     "name": "stdout",
     "output_type": "stream",
     "text": [
      "G\n",
      "T\n",
      "G\n"
     ]
    }
   ],
   "source": [
    "seq=\"ATGCATGCA\"\n",
    "#synatx\n",
    "#name_of_seq[index]\n",
    "#left to right indexing\n",
    "print(seq[2])\n",
    "print(seq[5])\n",
    "print(seq[-3])"
   ]
  },
  {
   "cell_type": "markdown",
   "metadata": {},
   "source": [
    " 0    1    2    3    4    5    6    7    8\n",
    " ×    ↓    ↓    ↓    ↓   ×    ×    ×    ×\n",
    "['A', 'T', 'G', 'C', 'A', 'T', 'G', 'C', 'A']"
   ]
  },
  {
   "cell_type": "code",
   "execution_count": 7,
   "metadata": {},
   "outputs": [
    {
     "name": "stdout",
     "output_type": "stream",
     "text": [
      "TGC\n",
      "TGCA\n",
      "CATGC\n"
     ]
    }
   ],
   "source": [
    "#slicing\n",
    "#sting_name[start:stop]\n",
    "seq=\"ATGCATGCA\"\n",
    "print(seq[1:4])\n",
    "print(seq[5:9])\n",
    "print(seq[3:8])"
   ]
  }
 ],
 "metadata": {
  "interpreter": {
   "hash": "2e142ed8c16b11eb9a32b3ac677a629ffa2603cf9c5cd15b5b82eee7b403d10d"
  },
  "kernelspec": {
   "display_name": "Python 3.9.6 64-bit",
   "language": "python",
   "name": "python3"
  },
  "language_info": {
   "codemirror_mode": {
    "name": "ipython",
    "version": 3
   },
   "file_extension": ".py",
   "mimetype": "text/x-python",
   "name": "python",
   "nbconvert_exporter": "python",
   "pygments_lexer": "ipython3",
   "version": "3.9.6"
  },
  "orig_nbformat": 4
 },
 "nbformat": 4,
 "nbformat_minor": 2
}
